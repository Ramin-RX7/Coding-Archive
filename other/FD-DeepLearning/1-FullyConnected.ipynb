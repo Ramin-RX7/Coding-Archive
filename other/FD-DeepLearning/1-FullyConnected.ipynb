{
 "cells": [
  {
   "cell_type": "code",
   "execution_count": 19,
   "metadata": {},
   "outputs": [],
   "source": [
    "#> Importing Libraries\n",
    "import numpy as np\n",
    "import matplotlib.pyplot as plt\n",
    "from keras.datasets import mnist"
   ]
  },
  {
   "cell_type": "code",
   "execution_count": 20,
   "metadata": {},
   "outputs": [
    {
     "name": "stdout",
     "output_type": "stream",
     "text": [
      "(60000, 28, 28)   |   (10000, 28, 28)\n"
     ]
    },
    {
     "data": {
      "text/plain": [
       "'\\nmydata1 = train_images[10:100]\\nmydata2 = train_images[10:100 , 10:20 , 0:27]\\n'"
      ]
     },
     "execution_count": 20,
     "metadata": {},
     "output_type": "execute_result"
    }
   ],
   "source": [
    "#> Loading Mnist dataset\n",
    "# Mnist Dataset: A group of 28x28 Images, that each has a label\n",
    "(train_images,train_labels), (test_images,test_labels) =  mnist.load_data()\n",
    "    #First time running this code will download mnist dataset in \"C:/Users/Username/.keras/datasets\"\n",
    "    #] All variables are numpy vars, so we can use .shape on them like below\n",
    "print(train_images.shape, \"  |  \", test_images.shape)\n",
    "#=> (nom_of_images,image_x_size,image_y_size)\n",
    "\"\"\"\n",
    "mydata1 = train_images[10:100]\n",
    "mydata2 = train_images[10:100 , 10:20 , 0:27]\n",
    "\"\"\""
   ]
  },
  {
   "cell_type": "code",
   "execution_count": 21,
   "metadata": {
    "collapsed": true
   },
   "outputs": [
    {
     "name": "stdout",
     "output_type": "stream",
     "text": [
      "X0 dimentions:  0\n",
      "X0 shape:  ()\n",
      "X0 type:  int32\n",
      "--------------------\n",
      "X1 dimentions:  1\n",
      "X1 shape:  (4,)\n",
      "X1 type:  float64\n",
      "--------------------\n",
      "X2 dimentions:  2\n",
      "X2 shape:  (3, 4)\n",
      "X2 type:  int32\n"
     ]
    }
   ],
   "source": [
    "#> Working with tensors in Numpy\n",
    "import numpy as np\n",
    "\n",
    "# 0D tensor: Scalar\n",
    "X0 = np.array(12)\n",
    "print(\"X0 dimentions: \", X0.ndim); # Dimensions\n",
    "print(\"X0 shape: \", X0.shape);     # Arrays in each dimension\n",
    "print(\"X0 type: \", X0.dtype)       # Type of data\n",
    "\n",
    "print(\"--------------------\")\n",
    "\n",
    "# 1D tensor: Vector\n",
    "X1 = np.array([12.5,3,6.4,4])\n",
    "print(\"X1 dimentions: \", X1.ndim);print(\"X1 shape: \", X1.shape);print(\"X1 type: \", X1.dtype)\n",
    "\n",
    "print(\"--------------------\")\n",
    "\n",
    "# 2D tensor: Matrix\n",
    "X2 = np.array([[1,3,6,4],\n",
    "              [3,43,1,2],\n",
    "              [14,5,7,4]])\n",
    "print(\"X2 dimentions: \", X2.ndim);print(\"X2 shape: \", X2.shape);print(\"X2 type: \", X2.dtype)"
   ]
  },
  {
   "cell_type": "code",
   "execution_count": 22,
   "metadata": {
    "collapsed": true
   },
   "outputs": [
    {
     "data": {
      "text/plain": [
       "<matplotlib.image.AxesImage at 0x1eb7f9817e0>"
      ]
     },
     "execution_count": 22,
     "metadata": {},
     "output_type": "execute_result"
    },
    {
     "data": {
      "image/png": "[encoded data removed]",
      "text/plain": [
       "<Figure size 640x480 with 1 Axes>"
      ]
     },
     "metadata": {},
     "output_type": "display_data"
    }
   ],
   "source": [
    "#> Printout an image\n",
    "digit = train_images[4]\n",
    "plt.imshow(digit, cmap=\"gray\") #cmap=\"binary\""
   ]
  },
  {
   "cell_type": "code",
   "execution_count": null,
   "metadata": {},
   "outputs": [],
   "source": []
  },
  {
   "cell_type": "code",
   "execution_count": null,
   "metadata": {},
   "outputs": [],
   "source": []
  },
  {
   "cell_type": "code",
   "execution_count": null,
   "metadata": {},
   "outputs": [],
   "source": []
  },
  {
   "cell_type": "code",
   "execution_count": 23,
   "metadata": {},
   "outputs": [],
   "source": [
    "#> Loading CamVid dataset\n",
    "    # Camvid Dataset: Photos of urban places (Consist of 12 classes)\n",
    "import glob\n",
    "import cv2\n",
    "images_path = \"F:/Coding/Faradars/Deep Learning (2) - TensorFlow & Keras/[fvml96071]_deep_learning_python/Files_and_codes/S02/Data/CamVid/train/\"\n",
    "images = glob.glob(images_path + \"*.png\")\n",
    "images.sort()"
   ]
  },
  {
   "cell_type": "code",
   "execution_count": 24,
   "metadata": {},
   "outputs": [],
   "source": [
    "#> Loading images\n",
    "Img_List = []\n",
    "width=200 ; height=200\n",
    "for img in images:\n",
    "    image = cv2.imread(img)\n",
    "    #] Resizing\n",
    "    image = cv2.resize(image, (width,height))\n",
    "    #] Normalizing\n",
    "    image = image / 255\n",
    "        # if we do not know what is the max value, we can use np.max(image)\n",
    "    #] Changing type\n",
    "    image = image.astype(np.float32)\n",
    "    \n",
    "    Img_List.append(image)"
   ]
  },
  {
   "cell_type": "code",
   "execution_count": 25,
   "metadata": {},
   "outputs": [],
   "source": [
    "#> Loading Labels\n",
    "labels_path = \"F:/Coding/Faradars/Deep Learning (2) - TensorFlow & Keras/[fvml96071]_deep_learning_python/Files_and_codes/S02/Data/CamVid/trainannot/\"\n",
    "labels = glob.glob(labels_path + \"*.png\")\n",
    "labels.sort()\n",
    "\n",
    "Y= []\n",
    "out_width = 200  ;  out_height = 100\n",
    "nClasses = 12\n",
    "seg_labels = np.zeros([out_height,out_width,nClasses], dtype='uint8')\n",
    "for mask in labels:\n",
    "    label = cv2.imread(mask)\n",
    "    # we don't need to normalize it and also it is not needed to make it float (classes are ints)\n",
    "    label = cv2.resize(label, (width,height))\n",
    "    label = label[:,:,0] #making it 2d (3rd is the rgb color and we don't want it)\n",
    "    for c in range(nClasses):\n",
    "        seg_labels[:,:,c] = (label==c)\n",
    "    label = label.astype(np.uint8)\n",
    "    Y.append(label)\n"
   ]
  },
  {
   "cell_type": "code",
   "execution_count": null,
   "metadata": {},
   "outputs": [],
   "source": []
  },
  {
   "cell_type": "code",
   "execution_count": null,
   "metadata": {},
   "outputs": [],
   "source": []
  },
  {
   "cell_type": "code",
   "execution_count": null,
   "metadata": {},
   "outputs": [],
   "source": []
  },
  {
   "cell_type": "code",
   "execution_count": 26,
   "metadata": {},
   "outputs": [],
   "source": [
    "#> make all of 60000  images to a vector with 784 length\n",
    "X_train = train_images.reshape(60000,784)\n",
    "X_test  = test_images.reshape (10000,784)\n",
    "X_train = X_train.astype(\"float32\")\n",
    "X_test  = X_test.astype (\"float32\")\n",
    "X_train /= 255\n",
    "X_test  /= 255\n",
    "    # we do this only for our images (because we don't need to change our labels we don't do this to them)"
   ]
  },
  {
   "cell_type": "code",
   "execution_count": 27,
   "metadata": {},
   "outputs": [],
   "source": [
    "#> Make labels vector to categorical\n",
    "    # example: if a label is labeled as 5, it will be a list that all indexes (0:12) will be zero except index 5 which will be 1\n",
    "from keras.utils import np_utils\n",
    "Y_train = np_utils.to_categorical(train_labels)\n",
    "Y_test  = np_utils.to_categorical(test_labels )"
   ]
  },
  {
   "cell_type": "code",
   "execution_count": 28,
   "metadata": {},
   "outputs": [
    {
     "name": "stdout",
     "output_type": "stream",
     "text": [
      "Model: \"sequential_1\"\n",
      "_________________________________________________________________\n",
      " Layer (type)                Output Shape              Param #   \n",
      "=================================================================\n",
      " dense_3 (Dense)             (None, 500)               392500    \n",
      "                                                                 \n",
      " dropout (Dropout)           (None, 500)               0         \n",
      "                                                                 \n",
      " dense_4 (Dense)             (None, 100)               50100     \n",
      "                                                                 \n",
      " dropout_1 (Dropout)         (None, 100)               0         \n",
      "                                                                 \n",
      " dense_5 (Dense)             (None, 10)                1010      \n",
      "                                                                 \n",
      "=================================================================\n",
      "Total params: 443,610\n",
      "Trainable params: 443,610\n",
      "Non-trainable params: 0\n",
      "_________________________________________________________________\n"
     ]
    }
   ],
   "source": [
    "#> Creating Model\n",
    "from keras.models import Sequential\n",
    "from keras.layers import Dense,Dropout\n",
    "myModel = Sequential()\n",
    "myModel.add(Dense(500 , activation='relu' , input_shape=(784,))) # input shape is only needed for the first layer\n",
    "       # n of neurons , activation function (keras.activation.relu)\n",
    "myModel.add(Dropout(0.2))\n",
    "       # turn 20% of our neurons off\n",
    "       #(read more about it in the plot cell)\n",
    "myModel.add(Dense(100, activation='relu'))\n",
    "myModel.add(Dropout(0.2))\n",
    "myModel.add(Dense(10, activation='softmax')) #usually output activation is softmax\n",
    "\n",
    "myModel.summary()\n",
    "       #] if we want to change layers name:\n",
    "              # myModel.layers[0].name = \"Layer123\"\n",
    "       #] if we want to stop a layer to be trainable:\n",
    "              # myModel.layers[0].trainable = False\n",
    "       #] to get config of a layer:\n",
    "              # moModel.layers[0].get_config()"
   ]
  },
  {
   "cell_type": "code",
   "execution_count": 29,
   "metadata": {},
   "outputs": [],
   "source": [
    "#> Compiling Model\n",
    "from keras.optimizers import SGD\n",
    "from keras.losses import categorical_crossentropy\n",
    "myModel.compile(optimizer=SGD(learning_rate=0.001), loss=categorical_crossentropy, metrics=[\"accuracy\"])\n",
    "                        "
   ]
  },
  {
   "cell_type": "code",
   "execution_count": 30,
   "metadata": {},
   "outputs": [
    {
     "name": "stdout",
     "output_type": "stream",
     "text": [
      "Epoch 1/7\n",
      "375/375 [==============================] - 2s 5ms/step - loss: 2.2065 - accuracy: 0.2006 - val_loss: 2.0166 - val_accuracy: 0.4713\n",
      "Epoch 2/7\n",
      "375/375 [==============================] - 2s 5ms/step - loss: 1.9404 - accuracy: 0.4261 - val_loss: 1.7347 - val_accuracy: 0.6595\n",
      "Epoch 3/7\n",
      "375/375 [==============================] - 2s 4ms/step - loss: 1.6834 - accuracy: 0.5646 - val_loss: 1.4597 - val_accuracy: 0.7325\n",
      "Epoch 4/7\n",
      "375/375 [==============================] - 2s 4ms/step - loss: 1.4498 - accuracy: 0.6391 - val_loss: 1.2246 - val_accuracy: 0.7725\n",
      "Epoch 5/7\n",
      "375/375 [==============================] - 2s 4ms/step - loss: 1.2577 - accuracy: 0.6826 - val_loss: 1.0384 - val_accuracy: 0.8009\n",
      "Epoch 6/7\n",
      "375/375 [==============================] - 2s 5ms/step - loss: 1.1141 - accuracy: 0.7105 - val_loss: 0.8967 - val_accuracy: 0.8217\n",
      "Epoch 7/7\n",
      "375/375 [==============================] - 2s 5ms/step - loss: 0.9920 - accuracy: 0.7379 - val_loss: 0.7901 - val_accuracy: 0.8359\n"
     ]
    }
   ],
   "source": [
    "#> Learn\n",
    "network_history = myModel.fit(X_train,Y_train,batch_size=128,epochs=7,validation_split=0.2)#,verbose=0)\n",
    "                                #] Vaildation_Split: we give % of devision in each train and test,\n",
    "                                    # it will automaticly take it as validation and returns it\n",
    "                                    # this will takes 20% as validation and learn with 80%\n",
    "history = network_history.history # .history gives a dict"
   ]
  },
  {
   "cell_type": "code",
   "execution_count": 31,
   "metadata": {},
   "outputs": [
    {
     "data": {
      "text/plain": [
       "<matplotlib.legend.Legend at 0x1eb179278b0>"
      ]
     },
     "execution_count": 31,
     "metadata": {},
     "output_type": "execute_result"
    },
    {
     "data": {
      "image/png": "[encoded data removed]",
      "text/plain": [
       "<Figure size 640x480 with 1 Axes>"
      ]
     },
     "metadata": {},
     "output_type": "display_data"
    },
    {
     "data": {
      "image/png": "[encoded data removed]",
      "text/plain": [
       "<Figure size 640x480 with 1 Axes>"
      ]
     },
     "metadata": {},
     "output_type": "display_data"
    }
   ],
   "source": [
    "losses = history[\"loss\"]\n",
    "accuracies = history[\"accuracy\"]\n",
    "val_losses = history['val_loss']\n",
    "val_accurecies = history['val_accuracy']\n",
    "plt.plot(losses)\n",
    "plt.plot(val_losses)\n",
    "plt.xlabel('Epochs')\n",
    "plt.ylabel('Loss')\n",
    "plt.legend(['loss','val_losses'])\n",
    "    # when these 2 plots are going same way, it's ok but when train goes down\n",
    "        # but validation wen up, it is porbabely overfitted  \n",
    "        # we have to add a drop-out layer \n",
    "            # Dropout will reduce parameters and prevents over-fitting (not completely)\n",
    "\n",
    "plt.figure()\n",
    "\n",
    "plt.plot(accuracies)\n",
    "plt.plot(val_accurecies)\n",
    "plt.xlabel('Epochs')\n",
    "plt.ylabel('Accuracy')\n",
    "plt.legend(['Accuracy','val_accuracy'])\n"
   ]
  },
  {
   "cell_type": "code",
   "execution_count": 35,
   "metadata": {},
   "outputs": [
    {
     "name": "stdout",
     "output_type": "stream",
     "text": [
      "313/313 [==============================] - 1s 2ms/step - loss: 0.7900 - accuracy: 0.8347\n",
      "313/313 [==============================] - 0s 2ms/step\n"
     ]
    }
   ],
   "source": [
    "#> Evaluation\n",
    "test_loss, test_accuracy = myModel.evaluate(X_test,Y_test)\n",
    "test_labels_predicted = myModel.predict(X_test)\n",
    "    # when you check the variable you will see the next line gets the max for each row\n",
    "test_labels_predicted = np.argmax(test_labels_predicted,axis=1)"
   ]
  },
  {
   "cell_type": "code",
   "execution_count": null,
   "metadata": {},
   "outputs": [],
   "source": []
  },
  {
   "cell_type": "code",
   "execution_count": null,
   "metadata": {},
   "outputs": [],
   "source": []
  },
  {
   "cell_type": "code",
   "execution_count": null,
   "metadata": {},
   "outputs": [],
   "source": []
  },
  {
   "cell_type": "code",
   "execution_count": null,
   "metadata": {},
   "outputs": [],
   "source": []
  },
  {
   "cell_type": "code",
   "execution_count": null,
   "metadata": {},
   "outputs": [],
   "source": []
  },
  {
   "cell_type": "code",
   "execution_count": null,
   "metadata": {},
   "outputs": [],
   "source": []
  },
  {
   "cell_type": "code",
   "execution_count": null,
   "metadata": {},
   "outputs": [],
   "source": []
  },
  {
   "cell_type": "code",
   "execution_count": null,
   "metadata": {},
   "outputs": [],
   "source": []
  },
  {
   "cell_type": "code",
   "execution_count": null,
   "metadata": {},
   "outputs": [],
   "source": []
  },
  {
   "cell_type": "code",
   "execution_count": null,
   "metadata": {},
   "outputs": [],
   "source": []
  },
  {
   "cell_type": "code",
   "execution_count": 1,
   "metadata": {},
   "outputs": [],
   "source": [
    "from keras.layers import Input,Dense\n",
    "from keras.models import Model\n",
    "from keras.datasets import mnist\n",
    "import numpy as np"
   ]
  },
  {
   "cell_type": "code",
   "execution_count": 3,
   "metadata": {},
   "outputs": [],
   "source": [
    "#> Using Mnist dataset\n",
    "(x_train,_),(x_test,_) = mnist.load_data()\n",
    "    # If the emnist dataset is not downloaded yet, it will be downloaded in C:/Users/Username/.Keras/datasets\n",
    "# print()"
   ]
  },
  {
   "cell_type": "code",
   "execution_count": 4,
   "metadata": {},
   "outputs": [],
   "source": [
    "inp_img = Input(shape=(784,)) #input placeholder\n",
    "encoded = Dense(32,activation=\"relu\")(inp_img)   # encoded representation of the input\n",
    "decoded = Dense(784,activation=\"sigmoid\")(encoded) # lossy reconstruction of the input"
   ]
  },
  {
   "cell_type": "code",
   "execution_count": 5,
   "metadata": {},
   "outputs": [
    {
     "name": "stdout",
     "output_type": "stream",
     "text": [
      "Model: \"model\"\n",
      "_________________________________________________________________\n",
      " Layer (type)                Output Shape              Param #   \n",
      "=================================================================\n",
      " input_1 (InputLayer)        [(None, 784)]             0         \n",
      "                                                                 \n",
      " dense (Dense)               (None, 32)                25120     \n",
      "                                                                 \n",
      " dense_1 (Dense)             (None, 784)               25872     \n",
      "                                                                 \n",
      "=================================================================\n",
      "Total params: 50,992\n",
      "Trainable params: 50,992\n",
      "Non-trainable params: 0\n",
      "_________________________________________________________________\n"
     ]
    }
   ],
   "source": [
    "# this model maps an input to its reconstruction\n",
    "auto_encoder = Model(inp_img,decoded)\n",
    "\n",
    "auto_encoder.compile(optimizer=\"adam\",loss=\"binary_crossentropy\")\n",
    "auto_encoder.summary()"
   ]
  },
  {
   "cell_type": "code",
   "execution_count": 6,
   "metadata": {},
   "outputs": [
    {
     "name": "stdout",
     "output_type": "stream",
     "text": [
      "(60000, 784)\n",
      "(10000, 784)\n"
     ]
    }
   ],
   "source": [
    "# normalize all values between 0-1\n",
    "x_train = x_train.astype('float32') / 255.\n",
    "x_test = x_test.astype('float32') / 255.\n",
    "# change size (reshape) images from 28x28 to 784 borders   (60000,28,28) => (60000,784)\n",
    "x_train = x_train.reshape((len(x_train), np.prod(x_train.shape[1:])))\n",
    "    # Equals to:             60000     , 784\n",
    "x_test = x_test.reshape((len(x_test), np.prod(x_test.shape[1:])))\n",
    "print(x_train.shape)\n",
    "print(x_test.shape)"
   ]
  },
  {
   "cell_type": "code",
   "execution_count": 7,
   "metadata": {},
   "outputs": [
    {
     "name": "stdout",
     "output_type": "stream",
     "text": [
      "Epoch 1/10\n",
      "235/235 [==============================] - 2s 5ms/step - loss: 0.2773 - val_loss: 0.1910\n",
      "Epoch 2/10\n",
      "235/235 [==============================] - 1s 4ms/step - loss: 0.1719 - val_loss: 0.1545\n",
      "Epoch 3/10\n",
      "235/235 [==============================] - 1s 4ms/step - loss: 0.1452 - val_loss: 0.1343\n",
      "Epoch 4/10\n",
      "235/235 [==============================] - 1s 4ms/step - loss: 0.1292 - val_loss: 0.1221\n",
      "Epoch 5/10\n",
      "235/235 [==============================] - 1s 4ms/step - loss: 0.1189 - val_loss: 0.1135\n",
      "Epoch 6/10\n",
      "235/235 [==============================] - 1s 4ms/step - loss: 0.1116 - val_loss: 0.1073\n",
      "Epoch 7/10\n",
      "235/235 [==============================] - 1s 4ms/step - loss: 0.1063 - val_loss: 0.1029\n",
      "Epoch 8/10\n",
      "235/235 [==============================] - 1s 4ms/step - loss: 0.1024 - val_loss: 0.0995\n",
      "Epoch 9/10\n",
      "235/235 [==============================] - 1s 4ms/step - loss: 0.0995 - val_loss: 0.0972\n",
      "Epoch 10/10\n",
      "235/235 [==============================] - 1s 4ms/step - loss: 0.0976 - val_loss: 0.0956\n"
     ]
    },
    {
     "data": {
      "text/plain": [
       "<keras.callbacks.History at 0x13069d2fc70>"
      ]
     },
     "execution_count": 7,
     "metadata": {},
     "output_type": "execute_result"
    }
   ],
   "source": [
    "auto_encoder.fit(x_train,x_train,epochs=10,batch_size=256,shuffle=True,validation_data=(x_test,x_test))\n",
    "               # input,  output,  steps, how many to give each time          "
   ]
  },
  {
   "cell_type": "code",
   "execution_count": 9,
   "metadata": {
    "scrolled": true
   },
   "outputs": [
    {
     "name": "stdout",
     "output_type": "stream",
     "text": [
      "313/313 [==============================] - 0s 887us/step\n"
     ]
    },
    {
     "data": {
      "image/png": "[encoded data removed]",
      "text/plain": [
       "<Figure size 2000x400 with 20 Axes>"
      ]
     },
     "metadata": {},
     "output_type": "display_data"
    }
   ],
   "source": [
    "decoded_imgs = auto_encoder.predict(x_test)\n",
    "\n",
    "import matplotlib.pyplot as plt\n",
    "\n",
    "n = 10  # how many digits we will display\n",
    "plt.figure(figsize=(20, 4))\n",
    "for i in range(n):\n",
    "    # display original\n",
    "    ax = plt.subplot(2, n, i + 1)\n",
    "    plt.imshow(x_test[i].reshape(28, 28))\n",
    "    plt.gray()\n",
    "    ax.get_xaxis().set_visible(False)\n",
    "    ax.get_yaxis().set_visible(False)\n",
    "\n",
    "    # display reconstruction\n",
    "    ax = plt.subplot(2, n, i + 1 + n)\n",
    "    plt.imshow(decoded_imgs[i].reshape(28, 28))\n",
    "    plt.gray()\n",
    "    ax.get_xaxis().set_visible(False)\n",
    "    ax.get_yaxis().set_visible(False)\n",
    "plt.show()"
   ]
  },
  {
   "cell_type": "code",
   "execution_count": null,
   "metadata": {},
   "outputs": [],
   "source": [
    "'''\n",
    "Working with tensors in Numpy\n",
    "'''\n",
    "\n",
    "import numpy as np\n",
    "\n",
    "# 0D tensor: Scalar\n",
    "X0 = np.array(12)\n",
    "print(\"X0 dimentions: \", X0.ndim)\n",
    "print(\"X0 shape: \", X0.shape)\n",
    "print(\"X0 type: \", X0.dtype)\n",
    "\n",
    "print(\"--------------------\")\n",
    "\n",
    "# 1D tensor: Vector\n",
    "X1 = np.array([12.5,3,6.4,4])\n",
    "print(\"X1 dimentions: \", X1.ndim)\n",
    "print(\"X1 shape: \", X1.shape)\n",
    "print(\"X1 type: \", X1.dtype)\n",
    "\n",
    "print(\"--------------------\")\n",
    "\n",
    "# 2D tensor: Matrix\n",
    "X2 = np.array([[1,3,6,4],\n",
    "              [3,43,1,2],\n",
    "              [14,5,7,4]])\n",
    "print(\"X2 dimentions: \", X2.ndim)\n",
    "print(\"X2 shape: \", X2.shape)\n",
    "print(\"X2 type: \", X2.dtype)"
   ]
  }
 ],
 "metadata": {
  "kernelspec": {
   "display_name": "Python 3.10.8 ('Py-3-10-8')",
   "language": "python",
   "name": "python3"
  },
  "language_info": {
   "codemirror_mode": {
    "name": "ipython",
    "version": 3
   },
   "file_extension": ".py",
   "mimetype": "text/x-python",
   "name": "python",
   "nbconvert_exporter": "python",
   "pygments_lexer": "ipython3",
   "version": "3.10.8"
  },
  "vscode": {
   "interpreter": {
    "hash": "1cd596f1dc11ce4785f47ee63be224ba41d07ea7ad1da800b9192ecf697bf9a4"
   }
  }
 },
 "nbformat": 4,
 "nbformat_minor": 2
}
